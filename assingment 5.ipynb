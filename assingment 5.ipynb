{
 "cells": [
  {
   "cell_type": "markdown",
   "id": "cfc2ca55",
   "metadata": {},
   "source": [
    "#### 1. Define a function which will return Max of three numbers"
   ]
  },
  {
   "cell_type": "code",
   "execution_count": 1,
   "id": "ab708c52",
   "metadata": {},
   "outputs": [],
   "source": [
    " def maxy(x,y,z):\n",
    "    if x>y or x>z:\n",
    "        return x\n",
    "    elif y>x or y>z:\n",
    "        return y\n",
    "    elif z>x or z>y:\n",
    "        return z"
   ]
  },
  {
   "cell_type": "code",
   "execution_count": 2,
   "id": "fec0a889",
   "metadata": {},
   "outputs": [
    {
     "data": {
      "text/plain": [
       "8"
      ]
     },
     "execution_count": 2,
     "metadata": {},
     "output_type": "execute_result"
    }
   ],
   "source": [
    "maxy(8,6,4)"
   ]
  },
  {
   "cell_type": "markdown",
   "id": "a8e590b9",
   "metadata": {},
   "source": [
    "#### 2. Define a Python Function to reverse a string."
   ]
  },
  {
   "cell_type": "code",
   "execution_count": 2,
   "id": "bf0022cd",
   "metadata": {},
   "outputs": [
    {
     "data": {
      "text/plain": [
       "'scitamonnI'"
      ]
     },
     "execution_count": 2,
     "metadata": {},
     "output_type": "execute_result"
    }
   ],
   "source": [
    "def reverse(s):\n",
    "    rev=s[::-1]\n",
    "    return rev\n",
    "reverse (\"Innomatics\") \n",
    "\n",
    "\n",
    "\n"
   ]
  },
  {
   "cell_type": "markdown",
   "id": "aa8198c9",
   "metadata": {},
   "source": [
    "#### 3. Write a Python program to define a function that accepts 2 values \n",
    "and return its sum, subtraction and multiplication."
   ]
  },
  {
   "cell_type": "code",
   "execution_count": 5,
   "id": "e6f61bf1",
   "metadata": {},
   "outputs": [
    {
     "data": {
      "text/plain": [
       "(5, -1, 6)"
      ]
     },
     "execution_count": 5,
     "metadata": {},
     "output_type": "execute_result"
    }
   ],
   "source": [
    "def val(a,b):\n",
    "    return a+b,a-b,a*b\n",
    "val(2,3)"
   ]
  },
  {
   "cell_type": "markdown",
   "id": "ed1106c2",
   "metadata": {},
   "source": [
    "#### 4. Define a function that accepts roll number and returns whether the student is present or absent."
   ]
  },
  {
   "cell_type": "code",
   "execution_count": 1,
   "id": "4fab96bb",
   "metadata": {},
   "outputs": [],
   "source": [
    "students_info={1:\"Rajesh\",2:\"Siddu\",3:\"Ameem\",4:\"Keerthi\",5:\"Manoj\",6:\"Bhagya\"}\n",
    "def attendance(*rollnum):\n",
    "    keys=students_info.keys()\n",
    "    for num in keys:\n",
    "        if num in rollnum:\n",
    "            print(\"{} is present\".format(students_info[num]))\n",
    "        else:\n",
    "            print(\"{} is abscent\".format(students_info[num]))"
   ]
  },
  {
   "cell_type": "code",
   "execution_count": 2,
   "id": "92f94e54",
   "metadata": {},
   "outputs": [
    {
     "name": "stdout",
     "output_type": "stream",
     "text": [
      "Rajesh is present\n",
      "Siddu is present\n",
      "Ameem is present\n",
      "Keerthi is present\n",
      "Manoj is present\n",
      "Bhagya is abscent\n"
     ]
    }
   ],
   "source": [
    "attendance(1,2,3,4,5)"
   ]
  },
  {
   "cell_type": "markdown",
   "id": "9f03fd59",
   "metadata": {},
   "source": [
    "#### 5. Define a function in python that accepts n values and returns the maximum of n numbers"
   ]
  },
  {
   "cell_type": "code",
   "execution_count": 3,
   "id": "fd21e953",
   "metadata": {},
   "outputs": [],
   "source": [
    "def maxy(*num):\n",
    "    return \"Max num : {}\".format(max(num))"
   ]
  },
  {
   "cell_type": "code",
   "execution_count": 4,
   "id": "8e164831",
   "metadata": {},
   "outputs": [
    {
     "data": {
      "text/plain": [
       "'Max num : 99'"
      ]
     },
     "execution_count": 4,
     "metadata": {},
     "output_type": "execute_result"
    }
   ],
   "source": [
    "maxy(1,5,68,89,88,78,45,58,99)"
   ]
  },
  {
   "cell_type": "markdown",
   "id": "fd48b54d",
   "metadata": {},
   "source": [
    "#### 6. Define a function which counts vowels and consonant in a word."
   ]
  },
  {
   "cell_type": "code",
   "execution_count": 6,
   "id": "c3209978",
   "metadata": {},
   "outputs": [],
   "source": [
    "def syllable(s):\n",
    "    vowels=[\"A\",\"E\",\"I\",\"O\",\"U\",\"a\",\"e\",\"i\",\"o\",\"u\"]\n",
    "    v=0\n",
    "    c=0\n",
    "    for letters in s:\n",
    "        if letters in vowels:\n",
    "            v+=1\n",
    "        else:\n",
    "            c+=1\n",
    "    print(\"Total vowels in given string = {}\".format(v))\n",
    "    print(\"Total consonants in given string = {}\".format(c))\n"
   ]
  },
  {
   "cell_type": "code",
   "execution_count": 7,
   "id": "303eb04c",
   "metadata": {},
   "outputs": [
    {
     "name": "stdout",
     "output_type": "stream",
     "text": [
      "Total vowels in given string = 10\n",
      "Total consonants in given string = 9\n"
     ]
    }
   ],
   "source": [
    "syllable(\"saippuakivikauppias\")"
   ]
  },
  {
   "cell_type": "markdown",
   "id": "312f71a4",
   "metadata": {},
   "source": [
    "#### 7. Define a function that returns Factorial of a number"
   ]
  },
  {
   "cell_type": "code",
   "execution_count": 8,
   "id": "ed95bfc8",
   "metadata": {},
   "outputs": [],
   "source": [
    "def factorial(num):\n",
    "    f=1\n",
    "    for num in range(1,num+1):\n",
    "        f*=num\n",
    "    return f"
   ]
  },
  {
   "cell_type": "code",
   "execution_count": 9,
   "id": "96431c56",
   "metadata": {},
   "outputs": [
    {
     "data": {
      "text/plain": [
       "120"
      ]
     },
     "execution_count": 9,
     "metadata": {},
     "output_type": "execute_result"
    }
   ],
   "source": [
    "factorial(5)"
   ]
  },
  {
   "cell_type": "code",
   "execution_count": null,
   "id": "2b02151b",
   "metadata": {},
   "outputs": [],
   "source": []
  },
  {
   "cell_type": "markdown",
   "id": "19c74672",
   "metadata": {},
   "source": [
    "#### 8. Define a function that accepts radius and returns the area of a circle."
   ]
  },
  {
   "cell_type": "code",
   "execution_count": 10,
   "id": "e3cf0c22",
   "metadata": {},
   "outputs": [],
   "source": [
    "def area(rad):\n",
    "    pi=22/7\n",
    "    return pi*(rad**2)\n"
   ]
  },
  {
   "cell_type": "code",
   "execution_count": 11,
   "id": "fe1de638",
   "metadata": {},
   "outputs": [
    {
     "data": {
      "text/plain": [
       "113.14285714285714"
      ]
     },
     "execution_count": 11,
     "metadata": {},
     "output_type": "execute_result"
    }
   ],
   "source": [
    "area(6)"
   ]
  },
  {
   "cell_type": "markdown",
   "id": "583b75ec",
   "metadata": {},
   "source": [
    "#### 9. Define a function that takes a number as a parameter and check the number is prime or not."
   ]
  },
  {
   "cell_type": "code",
   "execution_count": 12,
   "id": "8b996aad",
   "metadata": {},
   "outputs": [],
   "source": [
    "def checkPrime(num):\n",
    "    if num==2 or num==3:\n",
    "        return \"{} is a prime number\".format(num)\n",
    "    for i in range(2,num-1):\n",
    "        if num%i!=0:\n",
    "            return \"{} is a prime number\".format(num)\n",
    "        else:\n",
    "            return \"The give number {} is not a prime number\".format(num)\n",
    "\n",
    " "
   ]
  },
  {
   "cell_type": "code",
   "execution_count": 14,
   "id": "035c2ec3",
   "metadata": {},
   "outputs": [
    {
     "data": {
      "text/plain": [
       "'457 is a prime number'"
      ]
     },
     "execution_count": 14,
     "metadata": {},
     "output_type": "execute_result"
    }
   ],
   "source": [
    "checkPrime(457)"
   ]
  },
  {
   "cell_type": "markdown",
   "id": "b4b44657",
   "metadata": {},
   "source": [
    "### 10. Mary wants to run a 25-mile marathon. When she attempts to sign up for the marathon, she notices the sign-up sheet doesn't directly state the marathon's length. Instead, the marathon's length is listed in small, different portions. Help Mary find out how long the marathon actually is. So create a function that  \n",
    "- ** Return True if the marathon is 25 miles long, otherwise, return  False\n",
    "- Examples :-\n",
    "- marathon_distance([1, 2, 3, 4]) ➞ False \n",
    "- marathon_distance([1, 9, 5, 8, 2]) ➞ True\n",
    "- marathon_distance([-6, 15, 4]) ➞ True\n",
    "- Notes Items in the list will always be integers\n",
    "- . Items in the list may be negative or positive, but since negative \n",
    "- distance isn't possible, find a way to convert negative integers into \n",
    "- positive integers.\n",
    "- Return False if the arguments are empty or not provided."
   ]
  },
  {
   "cell_type": "code",
   "execution_count": 15,
   "id": "46d3530f",
   "metadata": {},
   "outputs": [],
   "source": [
    "def marathon_distance(l):\n",
    "    positive=[]\n",
    "    if l==[]:\n",
    "        return False\n",
    "    for num in l:\n",
    "        if num<0:\n",
    "            num=num*(-1)\n",
    "            positive.append(num)\n",
    "        else:\n",
    "            positive.append(num)\n",
    "    if sum(positive)==25:\n",
    "        return True\n",
    "    else:\n",
    "        return False"
   ]
  },
  {
   "cell_type": "code",
   "execution_count": 16,
   "id": "2748ed43",
   "metadata": {},
   "outputs": [
    {
     "data": {
      "text/plain": [
       "False"
      ]
     },
     "execution_count": 16,
     "metadata": {},
     "output_type": "execute_result"
    }
   ],
   "source": [
    "marathon_distance([1,9,5,6,2])"
   ]
  },
  {
   "cell_type": "markdown",
   "id": "e4e7765d",
   "metadata": {},
   "source": [
    "#### 11. Create a function that takes a number and returns True if the number is automorphic, False if it isn't\n",
    "- ** number n is automorphic if n^2 ends in n.\n",
    "- Example:\n",
    "- n=5, n^2=25\n",
    "- so 5 is an automorphic"
   ]
  },
  {
   "cell_type": "code",
   "execution_count": 18,
   "id": "588caf7a",
   "metadata": {},
   "outputs": [],
   "source": [
    " def automorphic_check(n):\n",
    "    a=n**2\n",
    "    b=str(a)\n",
    "    if int(b[-1])==n:\n",
    "        return True\n",
    "    else:\n",
    "        return False\n",
    "\n"
   ]
  },
  {
   "cell_type": "code",
   "execution_count": 19,
   "id": "c7efca2d",
   "metadata": {},
   "outputs": [
    {
     "data": {
      "text/plain": [
       "True"
      ]
     },
     "execution_count": 19,
     "metadata": {},
     "output_type": "execute_result"
    }
   ],
   "source": [
    " automorphic_check(6)"
   ]
  },
  {
   "cell_type": "markdown",
   "id": "9baef58c",
   "metadata": {},
   "source": [
    "### 12) Create a function, that will take given a, b, c, and do the following: Add a to itself b times and Check if the result is divisible by c. and return true if it is divisible by c or false\n",
    "- Example:\n",
    " A=1\n",
    " B=2\n",
    " C=2\n",
    " So output is True because 1+1=2 and 2/2=0"
   ]
  },
  {
   "cell_type": "code",
   "execution_count": 20,
   "id": "8505d4d5",
   "metadata": {},
   "outputs": [],
   "source": [
    "def check(a,b,c):\n",
    "    new=[]\n",
    "    for num in range(b):\n",
    "        new.append(a)\n",
    "    if sum(new)%c==0:\n",
    "        return True\n",
    "    else:\n",
    "        return False\n"
   ]
  },
  {
   "cell_type": "code",
   "execution_count": 21,
   "id": "49adf487",
   "metadata": {},
   "outputs": [
    {
     "data": {
      "text/plain": [
       "True"
      ]
     },
     "execution_count": 21,
     "metadata": {},
     "output_type": "execute_result"
    }
   ],
   "source": [
    "check(1,2,2)"
   ]
  },
  {
   "cell_type": "markdown",
   "id": "0a3ab7bf",
   "metadata": {},
   "source": [
    "### 13) Create a function that changes specific words into emoticons. Given a sentence as a string, replace the words smile, grin, sad and mad with their corresponding emoticons.\n",
    "- word emoticon\n",
    "- smile :D\n",
    "- grin :) \n",
    "- sad :( \n",
    "- mad :P\n",
    "- Examples:\n",
    "- functionname(\"Make me smile\") ➞ \"Make me :D\"\n",
    "- functionname (\"Make me grin\") ➞ \"Make me :)\" \n",
    "- functionname (\"Make me sad\") ➞ \"Make me :(\""
   ]
  },
  {
   "cell_type": "code",
   "execution_count": 23,
   "id": "35c17557",
   "metadata": {},
   "outputs": [],
   "source": [
    "def emoticons(s):\n",
    "    sep=s.split()\n",
    "    dic={\"smile\":\":D\",\"grin\":\":)\",\"sad\":\":(\",\"mad\":\":P\"}\n",
    "    keys=dic.keys()\n",
    "    for items in sep:\n",
    "        if items in keys:\n",
    "            change=s.replace(items,dic[items])\n",
    "            print(change)\n"
   ]
  },
  {
   "cell_type": "code",
   "execution_count": 24,
   "id": "3a7075b8",
   "metadata": {},
   "outputs": [
    {
     "name": "stdout",
     "output_type": "stream",
     "text": [
      "I am :(\n"
     ]
    }
   ],
   "source": [
    "emoticons(\"I am sad\")"
   ]
  },
  {
   "cell_type": "code",
   "execution_count": 25,
   "id": "47171dd8",
   "metadata": {},
   "outputs": [
    {
     "name": "stdout",
     "output_type": "stream",
     "text": [
      "I am :P at you\n"
     ]
    }
   ],
   "source": [
    "emoticons(\"I am mad at you\")\n"
   ]
  },
  {
   "cell_type": "markdown",
   "id": "1adc6ee9",
   "metadata": {},
   "source": [
    "### 14) Write a Python program to square and cube every number in a given list of integers using Lambda"
   ]
  },
  {
   "cell_type": "code",
   "execution_count": 26,
   "id": "61427315",
   "metadata": {},
   "outputs": [
    {
     "name": "stdout",
     "output_type": "stream",
     "text": [
      "Squares : [16, 4]\n",
      "Cubes : [64, 8]\n"
     ]
    }
   ],
   "source": [
    "li=[4,2]\n",
    "x=list(map(lambda x:x**2,li))\n",
    "y=list(map(lambda y:y**3,li))\n",
    "print(\"Squares : {}\".format(x))\n",
    "print(\"Cubes : {}\".format(y))\n"
   ]
  },
  {
   "cell_type": "markdown",
   "id": "d34fef5e",
   "metadata": {},
   "source": [
    "### 15)Write a Python program to check whether a given string is number or not using Lambd"
   ]
  },
  {
   "cell_type": "code",
   "execution_count": 27,
   "id": "3739cae6",
   "metadata": {},
   "outputs": [
    {
     "data": {
      "text/plain": [
       "True"
      ]
     },
     "execution_count": 27,
     "metadata": {},
     "output_type": "execute_result"
    }
   ],
   "source": [
    "check=lambda s:s.isdigit()\n",
    "check(\"143\")\n"
   ]
  },
  {
   "cell_type": "code",
   "execution_count": null,
   "id": "441feda6",
   "metadata": {},
   "outputs": [],
   "source": []
  }
 ],
 "metadata": {
  "kernelspec": {
   "display_name": "Python 3 (ipykernel)",
   "language": "python",
   "name": "python3"
  },
  "language_info": {
   "codemirror_mode": {
    "name": "ipython",
    "version": 3
   },
   "file_extension": ".py",
   "mimetype": "text/x-python",
   "name": "python",
   "nbconvert_exporter": "python",
   "pygments_lexer": "ipython3",
   "version": "3.9.13"
  }
 },
 "nbformat": 4,
 "nbformat_minor": 5
}
